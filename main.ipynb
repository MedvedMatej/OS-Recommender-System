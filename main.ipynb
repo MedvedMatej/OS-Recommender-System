{
 "cells": [
  {
   "attachments": {},
   "cell_type": "markdown",
   "metadata": {},
   "source": [
    "#### Knjižnice za delo s podatki"
   ]
  },
  {
   "cell_type": "code",
   "execution_count": 1,
   "metadata": {},
   "outputs": [],
   "source": [
    "import pandas as pd\n",
    "import datetime as dt\n",
    "import random\n",
    "import math\n",
    "from collections import defaultdict\n",
    "import numpy as np\n",
    "import itertools\n",
    "from sklearn.metrics.pairwise import cosine_similarity"
   ]
  },
  {
   "attachments": {},
   "cell_type": "markdown",
   "metadata": {},
   "source": [
    "#### Branje Ocen (6)"
   ]
  },
  {
   "cell_type": "code",
   "execution_count": 2,
   "metadata": {},
   "outputs": [],
   "source": [
    "class UserItemData:\n",
    "    def __init__(self, path, start_date=None, end_date=None, min_ratings=0):\n",
    "        self.path = path\n",
    "\n",
    "        self.from_date = None\n",
    "        self.to_date = None\n",
    "        #Formatiranje datuma v format YYYY-MM-DD, da lahko primerjamo datume kot stringe\n",
    "        if start_date:\n",
    "            self.from_date = '-'.join([ (el if len(str(el)) > 1 else f'0{el}') for el in start_date.split('.')[::-1]])\n",
    "        if end_date:\n",
    "            self.to_date = '-'.join([ (el if len(str(el)) > 1 else f'0{el}') for el in end_date.split('.')[::-1]])\n",
    "        \n",
    "        self.min_ratings = min_ratings\n",
    "        self.ratings = self._load_data()\n",
    "\n",
    "    def _load_data(self):\n",
    "        df = pd.read_csv(self.path, sep='\\t')\n",
    "\n",
    "        #Nov stolpec date, ki je kombinacija stolpcev date_year, date_month, date_day v formatu YYYY-MM-DD tipa string za primerjanje z start_date in end_date\n",
    "        df['date'] = pd.to_datetime(df.date_year*10000+df.date_month*100+df.date_day,format='%Y%m%d')\n",
    "\n",
    "        #Filtriranje vrstice glede na start_date, end_date in min_ratings\n",
    "        if self.from_date:\n",
    "            df = df[(df['date'] >= self.from_date)]\n",
    "        \n",
    "        if self.to_date:\n",
    "            df = df[df['date'] < self.to_date]\n",
    "\n",
    "        if self.min_ratings > 0:\n",
    "            df = df.groupby('movieID').filter(lambda x: len(x) >= self.min_ratings)\n",
    "        \n",
    "        return df\n",
    "    \n",
    "    def nratings(self):\n",
    "        #Vrne število zapisov v dataframe-u\n",
    "        return len(self.ratings)"
   ]
  },
  {
   "cell_type": "code",
   "execution_count": 3,
   "metadata": {},
   "outputs": [
    {
     "name": "stdout",
     "output_type": "stream",
     "text": [
      "855598\n",
      "73584\n"
     ]
    }
   ],
   "source": [
    "#Test branja podatkov in izpisa števila zapisov\n",
    "uim = UserItemData('data/user_ratedmovies.dat')\n",
    "print(uim.nratings())\n",
    "\n",
    "uim = UserItemData('data/user_ratedmovies.dat', start_date = '12.1.2007', end_date='16.2.2008', min_ratings=100)\n",
    "print(uim.nratings())"
   ]
  },
  {
   "attachments": {},
   "cell_type": "markdown",
   "metadata": {},
   "source": [
    "#### Branje filmov (6)"
   ]
  },
  {
   "cell_type": "code",
   "execution_count": 4,
   "metadata": {},
   "outputs": [],
   "source": [
    "class MovieData:\n",
    "    def __init__(self, path):\n",
    "        self.path = path\n",
    "        self.movies = self._load_data()\n",
    "    \n",
    "    def _load_data(self):\n",
    "        df = pd.read_csv(self.path, sep='\\t', encoding='ISO-8859-1')\n",
    "        return df\n",
    "\n",
    "    def get_title(self, movie_id):\n",
    "        #Vrni naslov filma glede na id filma\n",
    "        return self.movies[self.movies['id'] == movie_id].title.values[0]"
   ]
  },
  {
   "cell_type": "code",
   "execution_count": 5,
   "metadata": {},
   "outputs": [
    {
     "name": "stdout",
     "output_type": "stream",
     "text": [
      "Toy story\n"
     ]
    }
   ],
   "source": [
    "#Testna poizvedba naslova filma po id-ju\n",
    "md = MovieData('data/movies.dat')\n",
    "print(md.get_title(1))"
   ]
  },
  {
   "attachments": {},
   "cell_type": "markdown",
   "metadata": {},
   "source": [
    "#### Naključni prediktor (6)"
   ]
  },
  {
   "cell_type": "code",
   "execution_count": 6,
   "metadata": {},
   "outputs": [],
   "source": [
    "class RandomPredictor:\n",
    "    def __init__(self, min, max):\n",
    "        self.min = min\n",
    "        self.max = max\n",
    "        self.data = None\n",
    "    \n",
    "    def fit(self, X):\n",
    "        self.data = X\n",
    "\n",
    "    def predict(self, user_id):\n",
    "        #Za vsak film vrne naključno število med min in max\n",
    "        return {(i+1):random.randint(self.min,self.max) for i in range(65133)}"
   ]
  },
  {
   "cell_type": "code",
   "execution_count": 7,
   "metadata": {},
   "outputs": [
    {
     "name": "stdout",
     "output_type": "stream",
     "text": [
      "<class 'dict'>\n",
      "Film: Toy story, ocena: 2\n",
      "Film: Grumpy Old Men, ocena: 4\n",
      "Film: Money Train, ocena: 5\n",
      "Film: The Usual Suspects, ocena: 1\n",
      "Film: City Hall, ocena: 5\n"
     ]
    }
   ],
   "source": [
    "#Izpis \"napovedi\" za uporabnika 78 za filme 1, 3, 20, 50, 100\n",
    "md = MovieData('data/movies.dat')\n",
    "uim = UserItemData('data/user_ratedmovies.dat')\n",
    "rp = RandomPredictor(1, 5)\n",
    "rp.fit(uim)\n",
    "pred = rp.predict(78)\n",
    "print(type(pred))\n",
    "items = [1, 3, 20, 50, 100]\n",
    "for item in items:\n",
    "    print(\"Film: {}, ocena: {}\".format(md.get_title(item), pred[item]))"
   ]
  },
  {
   "attachments": {},
   "cell_type": "markdown",
   "metadata": {},
   "source": [
    "#### Priporočanje (6)"
   ]
  },
  {
   "cell_type": "code",
   "execution_count": 8,
   "metadata": {},
   "outputs": [],
   "source": [
    "class Recommender:\n",
    "    def __init__(self, predictor):\n",
    "        self.predictor = predictor\n",
    "\n",
    "    def fit(self, X):\n",
    "        self.predictor.fit(X)\n",
    "\n",
    "    def recommend(self, user_id, n=10, rec_seen=True):\n",
    "        #Iz predictorja pridobi slovar z napovedmi, ga uredi po oceni in vrne prvih n elementov\n",
    "        pred = self.predictor.predict(user_id)\n",
    "        pred = sorted(pred.items(), key=lambda x: x[1], reverse=True)\n",
    "\n",
    "        #Če rec_seen == False, potem odstrani filme, ki jih je uporabnik že ocenil\n",
    "        if not rec_seen:\n",
    "            seen = self.predictor.data.ratings[self.predictor.data.ratings['userID'] == user_id].movieID.values\n",
    "            pred = [el for el in pred if el[0] not in seen]\n",
    "\n",
    "        return pred[:n]"
   ]
  },
  {
   "cell_type": "code",
   "execution_count": 9,
   "metadata": {},
   "outputs": [
    {
     "name": "stdout",
     "output_type": "stream",
     "text": [
      "Film: Grumpy Old Men, ocena: 5\n",
      "Film: Sabrina, ocena: 5\n",
      "Film: Casino, ocena: 5\n",
      "Film: Four Rooms, ocena: 5\n",
      "Film: Persuasion, ocena: 5\n"
     ]
    }
   ],
   "source": [
    "#Izpis priporočil 5 filmov za uporabnika 78\n",
    "md = MovieData('data/movies.dat')\n",
    "uim = UserItemData('data/user_ratedmovies.dat')\n",
    "rp = RandomPredictor(1, 5)\n",
    "rec = Recommender(rp)\n",
    "rec.fit(uim)\n",
    "rec_items = rec.recommend(78, n=5, rec_seen=False)\n",
    "for idmovie, val in rec_items:\n",
    "    print(\"Film: {}, ocena: {}\".format(md.get_title(idmovie), val))  "
   ]
  },
  {
   "attachments": {},
   "cell_type": "markdown",
   "metadata": {},
   "source": [
    "#### Napovedovanje s povprečjem (6)"
   ]
  },
  {
   "cell_type": "code",
   "execution_count": 10,
   "metadata": {},
   "outputs": [],
   "source": [
    "class AveragePredictor:\n",
    "    def __init__(self, b):\n",
    "        #b je parameter, ki se uporablja pri izračunu povprečja\n",
    "        self.b = b if b>=0 else 0\n",
    "        self.data = None\n",
    "        self.predictions = None\n",
    "\n",
    "    def fit(self, X):\n",
    "        self.data = X\n",
    "        df = X.ratings\n",
    "        mean = df[\"rating\"].mean()\n",
    "        #Izračun povprečja za vsak film po formuli: avg = (vsota vseh ocen filma + b * povprečna ocena) / (število vseh ocen filma + b)\n",
    "        self.predictions = {movie_id: (df[df[\"movieID\"] == movie_id][\"rating\"].sum() + self.b * mean) / (len(df[df[\"movieID\"]== movie_id]) + self.b) for movie_id in df['movieID'].unique()}\n",
    "\n",
    "    def predict(self, user_id):\n",
    "        #Vrne slovar z \"napovedmi\" (povprečnimi ocenami filma)\n",
    "        return self.predictions\n",
    "        "
   ]
  },
  {
   "cell_type": "code",
   "execution_count": 11,
   "metadata": {},
   "outputs": [
    {
     "name": "stdout",
     "output_type": "stream",
     "text": [
      "Film: Brother Minister: The Assassination of Malcolm X, ocena: 5.0\n",
      "Film: Synthetic Pleasures, ocena: 5.0\n",
      "Film: Adam & Steve, ocena: 5.0\n",
      "Film: Gabbeh, ocena: 5.0\n",
      "Film: Eve and the Fire Horse, ocena: 5.0\n"
     ]
    }
   ],
   "source": [
    "#Izpis priporočil 5 filmov za uporabnika 78 z AveragePredictor-ja, b = 0\n",
    "md = MovieData('data/movies.dat')\n",
    "uim = UserItemData('data/user_ratedmovies.dat')\n",
    "ap = AveragePredictor(0)\n",
    "rec = Recommender(ap)\n",
    "rec.fit(uim)\n",
    "rec_items = rec.recommend(78, n=5, rec_seen=False)\n",
    "for idmovie, val in rec_items:\n",
    "    print(\"Film: {}, ocena: {}\".format(md.get_title(idmovie), val))  "
   ]
  },
  {
   "cell_type": "code",
   "execution_count": 12,
   "metadata": {},
   "outputs": [
    {
     "name": "stdout",
     "output_type": "stream",
     "text": [
      "Film: The Usual Suspects, ocena: 4.225944245560473\n",
      "Film: The Godfather: Part II, ocena: 4.146907937910189\n",
      "Film: Cidade de Deus, ocena: 4.116538340205236\n",
      "Film: The Dark Knight, ocena: 4.10413904093503\n",
      "Film: 12 Angry Men, ocena: 4.103639627096175\n"
     ]
    }
   ],
   "source": [
    "#Izpis priporočil 5 filmov za uporabnika 78 z AveragePredictor-ja, b = 100\n",
    "ap = AveragePredictor(100)\n",
    "rec = Recommender(ap)\n",
    "rec.fit(uim)\n",
    "rec_items = rec.recommend(78, n=5, rec_seen=False)\n",
    "for idmovie, val in rec_items:\n",
    "    print(\"Film: {}, ocena: {}\".format(md.get_title(idmovie), val))  "
   ]
  },
  {
   "attachments": {},
   "cell_type": "markdown",
   "metadata": {},
   "source": [
    "#### Priporočanje najbolj gledanih filmov (6)"
   ]
  },
  {
   "cell_type": "code",
   "execution_count": 13,
   "metadata": {},
   "outputs": [],
   "source": [
    "class ViewsPredictor:\n",
    "    def __init__(self):\n",
    "        self.data = None\n",
    "        self.predictions = None\n",
    "\n",
    "    def fit(self, X):\n",
    "        self.data = X\n",
    "        df = X.ratings\n",
    "        #Izračun števila ocen za vsak film\n",
    "        self.predictions = { group[0]: len(group[1]) for group in df.groupby('movieID')}\n",
    "\n",
    "    def predict(self, user_id):\n",
    "        return self.predictions"
   ]
  },
  {
   "cell_type": "code",
   "execution_count": 14,
   "metadata": {},
   "outputs": [
    {
     "name": "stdout",
     "output_type": "stream",
     "text": [
      "Film: The Lord of the Rings: The Fellowship of the Ring, ocena: 1576\n",
      "Film: The Lord of the Rings: The Two Towers, ocena: 1528\n",
      "Film: The Lord of the Rings: The Return of the King, ocena: 1457\n",
      "Film: The Silence of the Lambs, ocena: 1431\n",
      "Film: Shrek, ocena: 1404\n"
     ]
    }
   ],
   "source": [
    "#Izpis priporočil 5 filmov za uporabnika 78 z ViewsPredictor-jem\n",
    "vp = ViewsPredictor()\n",
    "rec = Recommender(vp)\n",
    "rec.fit(uim)\n",
    "rec_items = rec.recommend(78, n=5, rec_seen=False)\n",
    "for idmovie, val in rec_items:\n",
    "    print(\"Film: {}, ocena: {}\".format(md.get_title(idmovie), val))  "
   ]
  },
  {
   "attachments": {},
   "cell_type": "markdown",
   "metadata": {},
   "source": [
    "#### Napovedovanje ocen s podobnostjo med produkti (6)"
   ]
  },
  {
   "cell_type": "code",
   "execution_count": 15,
   "metadata": {},
   "outputs": [],
   "source": [
    "class ItemBasedPredictor:\n",
    "    def __init__(self, min_values=0, threshold=0):\n",
    "        self.min_values = min_values\n",
    "        self.threshold = threshold\n",
    "        self.data = None\n",
    "        self.predictions = {}\n",
    "        self.user_avgs = {}\n",
    "        self.similarities = {}\n",
    "\n",
    "    def fit(self, X):\n",
    "        self.data = X\n",
    "        df = X.ratings\n",
    "        #Izračun povprečne ocene vsakega uporabnika\n",
    "        self.user_avgs = { group[0]: group[1]['rating'].mean() for group in df.groupby('userID')}\n",
    "\n",
    "        #Preoblikovanje podatkov v obliko kjer so vrstice movieID, stolpci userID in vrednosti v posameznem stolpcu so ocene uporabnika za dani film\n",
    "        rm = df.pivot_table(index='movieID', columns='userID', values='rating')\n",
    "\n",
    "        #Od vsake ocene odštejemo povprečno oceno uporabnika\n",
    "        rm_norm = rm - rm.mean()\n",
    "\n",
    "        #Za kombinacijo filmov i in j izračunamo podobnost med njima\n",
    "        for i in rm.index:\n",
    "            for j in rm.index:\n",
    "                if i < j:\n",
    "                    #Izračun podobnosti po popravljeni kosinusni razdalji\n",
    "                    self.similarities[(i,j)] = (rm_norm.loc[i]* rm_norm.loc[j]).sum() / (math.sqrt((rm_norm.pow(2).loc[i]).where(rm_norm.loc[j].notnull()).sum()) * math.sqrt((rm_norm.pow(2).loc[j]).where(rm_norm.loc[i].notnull()).sum()))\n",
    "                    \n",
    "                    #Če je podobnost manjša od threshold, negativna ali ni zadostno število ocen, nastavi podobnost na 0\n",
    "                    if self.similarities[(i,j)] < self.threshold or self.similarities[(i,j)] < 0  or len(rm_norm.loc[j].where(rm_norm.loc[i].notnull())) < self.min_values:\n",
    "                        self.similarities[(i,j)] = 0\n",
    "                \n",
    "    def predict(self, user_id):\n",
    "        #(movie, vsota(ocena *podobnost), vsota(podobnost))\n",
    "        vsote1 = defaultdict(int)\n",
    "        vsote2 = defaultdict(int)\n",
    "\n",
    "        #Seznam filmov, ki jih je uporabnik že ocenil\n",
    "        movie_ids = self.data.ratings[self.data.ratings['userID'] == user_id]['movieID'].unique()\n",
    "\n",
    "        #Gremo čez vse pare filmo\n",
    "        for (i,j), v in self.similarities.items():\n",
    "            #Če je uporabnik ocenil film i vsoti prištejemo oceno filma i in podobnost med filmoma i in j, prav tako povečamo vstoto2 za podobnost med filmova\n",
    "            if i in movie_ids:\n",
    "                vsote1[j] += self.data.ratings[(self.data.ratings['userID'] == user_id) & (self.data.ratings['movieID'] == i)].rating.values[0] * v\n",
    "                vsote2[j] += v\n",
    "            #Enako za film j\n",
    "            if j in movie_ids:\n",
    "                vsote1[i] += self.data.ratings[(self.data.ratings['userID'] == user_id) & (self.data.ratings['movieID'] == j)].rating.values[0] * v\n",
    "                vsote2[i] += v\n",
    "        \n",
    "        #Za vsak film oceno po formuli: vsota(ocena *podobnost) / vsota(podobnost)\n",
    "        return { k: (v / vsote2[k]) if vsote2[k] != 0 else 0 for k, v in vsote1.items() if k not in movie_ids}\n",
    "\n",
    "    def similarity(self, i, j):\n",
    "        #Vrne podnosnost med filmoma i in j\n",
    "        #Ker je podobnost med i in j enaka podobnosti med j in i, če je i > j, zamenjamo i in j\n",
    "        if i > j:\n",
    "            i,j = j,i\n",
    "        return self.similarities[(i,j)] if (i,j) in self.similarities else 0\n",
    "\n",
    "    def most_similar(self, n=20):\n",
    "        #Uredi slovar podobnosti po vrednosti in vrni prvih n elementov\n",
    "        return sorted(self.similarities.items(), key=lambda x: x[1], reverse=True)[:n]\n",
    "\n",
    "    def similarItems(self, movie_id, n):\n",
    "        #Med podobnostmi vzame tiste, ki imajo za i ali j movie_id, jih sortira po velikost in vrne prvih n elementov\n",
    "        return sorted([(k[1], v) for k,v in self.similarities.items() if k[0] == movie_id] + [(k[0], v) for k,v in self.similarities.items() if k[1] == movie_id], key=lambda x: x[1], reverse=True)[:n]\n",
    "\n",
    "        "
   ]
  },
  {
   "cell_type": "code",
   "execution_count": 32,
   "metadata": {},
   "outputs": [
    {
     "name": "stdout",
     "output_type": "stream",
     "text": [
      "Podobnost med filmoma 'Men in black'(1580) in 'Ghostbusters'(2716):  0.23395523176756633\n",
      "Podobnost med filmoma 'Men in black'(1580) in 'Schindler's List'(527):  0\n",
      "Podobnost med filmoma 'Men in black'(1580) in 'Independence day'(780):  0.4246612584468763\n"
     ]
    }
   ],
   "source": [
    "#Izračun podobnosti za nekaj filmov\n",
    "md = MovieData('data/movies.dat')\n",
    "uim = UserItemData('data/user_ratedmovies.dat', min_ratings=1000)\n",
    "rp = ItemBasedPredictor()\n",
    "rec = Recommender(rp)\n",
    "rec.fit(uim)\n",
    "\n",
    "print(\"Podobnost med filmoma 'Men in black'(1580) in 'Ghostbusters'(2716): \", rp.similarity(1580, 2716))\n",
    "print(\"Podobnost med filmoma 'Men in black'(1580) in 'Schindler's List'(527): \", rp.similarity(1580, 527))\n",
    "print(\"Podobnost med filmoma 'Men in black'(1580) in 'Independence day'(780): \", rp.similarity(1580, 780))"
   ]
  },
  {
   "cell_type": "code",
   "execution_count": 33,
   "metadata": {},
   "outputs": [
    {
     "name": "stdout",
     "output_type": "stream",
     "text": [
      "Predictions for 78: \n",
      "Film: Shichinin no samurai, ocena: 4.3557347903101595\n",
      "Film: The Usual Suspects, ocena: 4.3546817280678365\n",
      "Film: The Silence of the Lambs, ocena: 4.335305303472519\n",
      "Film: Sin City, ocena: 4.2786871668991004\n",
      "Film: Monsters, Inc., ocena: 4.2175811369435205\n",
      "Film: The Incredibles, ocena: 4.207098583281748\n",
      "Film: The Lord of the Rings: The Fellowship of the Ring, ocena: 4.152792107348348\n",
      "Film: Batman Begins, ocena: 4.146413806700199\n",
      "Film: Die Hard, ocena: 4.125915602232819\n",
      "Film: Rain Man, ocena: 4.07153524295855\n",
      "Film: The Lord of the Rings: The Return of the King, ocena: 4.020237449257013\n",
      "Film: A Beautiful Mind, ocena: 4.015142490064837\n",
      "Film: Good Will Hunting, ocena: 4.009280806922821\n",
      "Film: The Lord of the Rings: The Two Towers, ocena: 3.9414763050955943\n",
      "Film: Indiana Jones and the Last Crusade, ocena: 3.7969764963789245\n"
     ]
    }
   ],
   "source": [
    "#Napoved ocen uporabnika za 15 filmov, ki napovedujemo, da bi jih najbolje ocenil\n",
    "print(\"Predictions for 78: \")\n",
    "rec_items = rec.recommend(78, n=15, rec_seen=False)\n",
    "for idmovie, val in rec_items:\n",
    "    print(\"Film: {}, ocena: {}\".format(md.get_title(idmovie), val))"
   ]
  },
  {
   "attachments": {},
   "cell_type": "markdown",
   "metadata": {},
   "source": [
    "#### Najbolj podobni filmi (6)"
   ]
  },
  {
   "cell_type": "code",
   "execution_count": 18,
   "metadata": {},
   "outputs": [
    {
     "name": "stdout",
     "output_type": "stream",
     "text": [
      "Film 1: The Lord of the Rings: The Two Towers, Film 2:The Lord of the Rings: The Return of the King, podobnost: 0.8439842148481418\n",
      "Film 1: The Lord of the Rings: The Fellowship of the Ring, Film 2:The Lord of the Rings: The Two Towers, podobnost: 0.8231885401761888\n",
      "Film 1: The Lord of the Rings: The Fellowship of the Ring, Film 2:The Lord of the Rings: The Return of the King, podobnost: 0.8079374897442495\n",
      "Film 1: Kill Bill: Vol. 2, Film 2:Kill Bill: Vol. 2, podobnost: 0.7372340224381029\n",
      "Film 1: Star Wars, Film 2:Star Wars: Episode V - The Empire Strikes Back, podobnost: 0.7021321132220318\n",
      "Film 1: Ace Ventura: Pet Detective, Film 2:The Mask, podobnost: 0.6616471778494046\n",
      "Film 1: Star Wars: Episode V - The Empire Strikes Back, Film 2:Star Wars: Episode VI - Return of the Jedi, podobnost: 0.5992253753778948\n",
      "Film 1: Independence Day, Film 2:Star Wars: Episode I - The Phantom Menace, podobnost: 0.5610426219249997\n",
      "Film 1: Ace Ventura: Pet Detective, Film 2:Austin Powers: The Spy Who Shagged Me, podobnost: 0.5546511205201552\n",
      "Film 1: Star Wars, Film 2:Star Wars: Episode VI - Return of the Jedi, podobnost: 0.5537849318137372\n",
      "Film 1: Speed, Film 2:Pretty Woman, podobnost: 0.5452283115904596\n",
      "Film 1: Speed, Film 2:Independence Day, podobnost: 0.5431378689126924\n",
      "Film 1: The Mask, Film 2:Mrs. Doubtfire, podobnost: 0.5398021259282234\n",
      "Film 1: Star Wars: Episode I - The Phantom Menace, Film 2:The Matrix Reloaded, podobnost: 0.539553095856011\n",
      "Film 1: Pulp Fiction, Film 2:Reservoir Dogs, podobnost: 0.5325845218198639\n",
      "Film 1: The Mask, Film 2:Speed, podobnost: 0.527881777853781\n",
      "Film 1: Mrs. Doubtfire, Film 2:Pretty Woman, podobnost: 0.5270868855316113\n",
      "Film 1: The Usual Suspects, Film 2:The Shawshank Redemption, podobnost: 0.517724533955058\n",
      "Film 1: Pretty Woman, Film 2:Independence Day, podobnost: 0.5159691824959433\n",
      "Film 1: Mrs. Doubtfire, Film 2:Independence Day, podobnost: 0.5058863618664245\n"
     ]
    }
   ],
   "source": [
    "#Izpis 20 medseboj najbolj podobnih filmov\n",
    "for movie, val in rp.most_similar():\n",
    "    print(f\"Film 1: {md.get_title(movie[0])}, Film 2:{md.get_title(movie[1])}, podobnost: {val}\")"
   ]
  },
  {
   "attachments": {},
   "cell_type": "markdown",
   "metadata": {},
   "source": [
    "#### Priporočanje glede na trenutno ogledano vsebino (7)"
   ]
  },
  {
   "cell_type": "code",
   "execution_count": 19,
   "metadata": {},
   "outputs": [
    {
     "name": "stdout",
     "output_type": "stream",
     "text": [
      "Filmi podobni \"The Lord of the Rings: The Fellowship of the Ring\": \n",
      "Film: The Lord of the Rings: The Two Towers, ocena: 0.8231885401761888\n",
      "Film: The Lord of the Rings: The Return of the King, ocena: 0.8079374897442495\n",
      "Film: Star Wars: Episode V - The Empire Strikes Back, ocena: 0.23961943073496453\n",
      "Film: Star Wars, ocena: 0.2196558652707407\n",
      "Film: The Matrix, ocena: 0.2151555270688023\n",
      "Film: Raiders of the Lost Ark, ocena: 0.19944276706345015\n",
      "Film: The Usual Suspects, ocena: 0.18321188451910753\n",
      "Film: Blade Runner, ocena: 0.1639968131541027\n",
      "Film: Schindler's List, ocena: 0.16105905138148702\n",
      "Film: Monty Python and the Holy Grail, ocena: 0.1578045379851914\n"
     ]
    }
   ],
   "source": [
    "#Izpis 10 najbolj podobnih filmov za film 'The Lord of the Rings: The Fellowship of the Ring'\n",
    "rec_items = rp.similarItems(4993, 10)\n",
    "print('Filmi podobni \"The Lord of the Rings: The Fellowship of the Ring\": ')\n",
    "for idmovie, val in rec_items:\n",
    "    print(\"Film: {}, ocena: {}\".format(md.get_title(idmovie), val))"
   ]
  },
  {
   "attachments": {},
   "cell_type": "markdown",
   "metadata": {},
   "source": [
    "#### Priporočilo zase (7)\n",
    "Naredil sem kopijo datoteke user_ratedmovies.dat jo preimenoval user_ratedmovies.dat in na konec datoteke dodal zapise o ocenah filmov za userID sem si dodelil 1, saj so v datoteki uporabniki z ID-ji od 75 naprej.\\\n",
    "Zapisi:\\\n",
    "1\t1\t4\t3\t12\t2007\t2\t56\t3 \\\n",
    "1\t2\t5\t3\t12\t2007\t2\t55\t24 \\\n",
    "1\t7\t4\t3\t12\t2007\t2\t38\t12 \\\n",
    "1\t47\t4.5\t3\t12\t2007\t3\t6\t43 \\\n",
    "1\t329\t4\t3\t12\t2007\t3\t1\t37 \\\n",
    "1\t479\t4.5\t3\t12\t2007\t3\t4\t16 \\\n",
    "1\t480\t4.5\t3\t12\t2007\t2\t34\t18 \\\n",
    "1\t761\t4\t10\t10\t2008\t9\t56\t42 \\\n",
    "1\t7361\t4\t3\t12\t2007\t2\t59\t45 \\\n",
    "1\t7371\t2.5\t3\t12\t2007\t2\t19\t32 \\\n",
    "1\t7438\t4.5\t3\t12\t2007\t3\t1\t39 \\\n",
    "1\t7579\t4\t3\t12\t2007\t2\t44\t22 \\\n",
    "1\t7934\t3.5\t3\t12\t2007\t2\t19\t55 \\\n",
    "1\t7983\t5\t3\t12\t2007\t2\t19\t0 \\\n",
    "1\t8638\t4.5\t3\t12\t2007\t2\t56\t6 \\\n",
    "1\t27727\t3.5\t3\t12\t2007\t2\t19\t10 \\\n",
    "1\t33166\t4.5\t3\t12\t2007\t3\t1\t49 \\\n",
    "1\t33564\t4\t3\t12\t2007\t3\t6\t52 \\\n",
    "1\t35836\t0.5\t3\t12\t2007\t2\t44\t42 \\\n",
    "1\t39869\t4.5\t3\t12\t2007\t2\t20\t16 \\\n",
    "1\t40629\t2\t3\t12\t2007\t2\t41\t48 \\\n",
    "1\t40819\t4\t3\t12\t2007\t2\t57\t58 \\\n",
    "1\t41285\t3.5\t3\t12\t2007\t2\t37\t23 \\\n",
    "1\t42900\t4\t3\t12\t2007\t2\t20\t1 \\\n",
    "1\t44555\t4\t3\t12\t2007\t3\t5\t38 \\\n",
    "1\t46578\t4\t3\t12\t2007\t2\t56\t44 \\\n",
    "1\t48516\t4.5\t3\t12\t2007\t2\t53\t46 \\\n",
    "1\t61075\t5\t10\t10\t2008\t9\t56\t5 \\\n",
    "1\t62049\t4.5\t10\t10\t2008\t9\t58\t10 "
   ]
  },
  {
   "cell_type": "code",
   "execution_count": 29,
   "metadata": {},
   "outputs": [],
   "source": [
    "#Ocenil sem nekaj filmov in jih dodal v kopijo datoteke na koncu z userID = 1\n",
    "md = MovieData('data/movies.dat')\n",
    "uim = UserItemData('data/user_ratedmovies_medved.dat', min_ratings=1000)\n",
    "rp = ItemBasedPredictor()\n",
    "rec = Recommender(rp)\n",
    "rec.fit(uim)"
   ]
  },
  {
   "cell_type": "code",
   "execution_count": 30,
   "metadata": {},
   "outputs": [
    {
     "name": "stdout",
     "output_type": "stream",
     "text": [
      "Predictions for Medved(1): \n",
      "Film: Braveheart, ocena: 4.5\n",
      "Film: Forrest Gump, ocena: 4.5\n",
      "Film: Terminator 2: Judgment Day, ocena: 4.5\n",
      "Film: Die Hard, ocena: 4.5\n",
      "Film: Star Wars: Episode VI - Return of the Jedi, ocena: 4.5\n",
      "Film: Terminator Salvation, ocena: 4.5\n",
      "Film: Indiana Jones and the Last Crusade, ocena: 4.5\n",
      "Film: The Fifth Element, ocena: 4.5\n",
      "Film: Rain Man, ocena: 4.5\n",
      "Film: Saving Private Ryan, ocena: 4.5\n"
     ]
    }
   ],
   "source": [
    "#Napoved ocen uporabnika za 15 filmov, ki napovedujemo, da bi jih najbolje ocenil\n",
    "print(\"Predictions for Medved(1): \")\n",
    "rec_items = rec.recommend(1, n=10, rec_seen=False)\n",
    "for idmovie, val in rec_items:\n",
    "    print(\"Film: {}, ocena: {}\".format(md.get_title(idmovie), val))"
   ]
  },
  {
   "attachments": {},
   "cell_type": "markdown",
   "metadata": {},
   "source": [
    "Med priporočili je kar nekaj filmov npr Die Hard, Star Wars, Terminator, ki jih nisem gledal, a jih imam že nekaj časa na seznamu za ogled. Mogoče je to znak da se jih končno lotim."
   ]
  },
  {
   "attachments": {},
   "cell_type": "markdown",
   "metadata": {},
   "source": [
    "#### Napovedovanje z metodo Slope one (7)"
   ]
  },
  {
   "cell_type": "code",
   "execution_count": 22,
   "metadata": {},
   "outputs": [],
   "source": [
    "class SlopeOnePredictor:\n",
    "    def __init__(self):\n",
    "        self.data = None\n",
    "        self.predictions = {}\n",
    "        self.dev = {}\n",
    "        self.weight = {}\n",
    "\n",
    "    def fit(self, X):\n",
    "        self.data = X\n",
    "        df = X.ratings\n",
    "        \n",
    "        #Preoblikovanje tabele v obliko movieID x userID, kjer je vrednost med stolpcem in vrstico uporabnikova ocena filma\n",
    "        rm = df.pivot_table(index='movieID', columns='userID', values='rating')\n",
    "\n",
    "        #Loop čez kombinacijo vseh filmov\n",
    "        for i in rm.index:\n",
    "            for j in rm.index:\n",
    "                if i != j:\n",
    "                    #Izračun povprečne razlike med ocen kombinacije filov in števila uporabnikov, ki so ocenili oba filma\n",
    "                    self.weight[(i,j)] = rm.loc[i].where(rm.loc[j].notnull()).count()\n",
    "                    self.dev[(i,j)] = (rm.loc[i].where(rm.loc[j].notnull()) - rm.loc[j].where(rm.loc[i].notnull())).mean()\n",
    "                    \n",
    "                \n",
    "    def predict(self, user_id):\n",
    "\n",
    "        vsote1 = defaultdict(int)\n",
    "        vsote_weight = defaultdict(int)\n",
    "        #Seznam vseh filmov, ki jih je uporabnik ocenil\n",
    "        movie_ids = self.data.ratings[self.data.ratings['userID'] == user_id]['movieID'].unique()\n",
    "\n",
    "        #Loop čez vse povprečne razlike ocen parov filmov\n",
    "        for (i,j), v in self.dev.items():\n",
    "            #Če je uporabnik ocenil film j, ga upoštevamo pri napovedovanju ocene filma i\n",
    "            if j in movie_ids:\n",
    "                #Vsoti za film i prištejemo (user_rating + razlika med ocenama) * utež\n",
    "                vsote1[i] += (self.data.ratings[(self.data.ratings['userID'] == user_id) & (self.data.ratings['movieID'] == j)].rating.values[0] + v) * self.weight[(i,j)]\n",
    "                #Za vsak film seštevamo uteži\n",
    "                vsote_weight[i] += self.weight[(i,j)]\n",
    "        \n",
    "        #Za vsak film vrnemo vsoto in jo delimo z vsoto uteži\n",
    "        return { k: (v / vsote_weight[k]) for k, v in vsote1.items() }"
   ]
  },
  {
   "cell_type": "code",
   "execution_count": 23,
   "metadata": {},
   "outputs": [
    {
     "name": "stdout",
     "output_type": "stream",
     "text": [
      "Predictions for 78: \n",
      "Film: The Usual Suspects, ocena: 4.325079182263173\n",
      "Film: The Lord of the Rings: The Fellowship of the Ring, ocena: 4.155293229840448\n",
      "Film: The Lord of the Rings: The Return of the King, ocena: 4.153135076202185\n",
      "Film: The Silence of the Lambs, ocena: 4.127978169643881\n",
      "Film: Shichinin no samurai, ocena: 4.119790444913598\n",
      "Film: The Lord of the Rings: The Two Towers, ocena: 4.083325894849594\n",
      "Film: Indiana Jones and the Last Crusade, ocena: 3.9670398355464194\n",
      "Film: The Incredibles, ocena: 3.9664496674557546\n",
      "Film: Good Will Hunting, ocena: 3.963362387354114\n",
      "Film: Sin City, ocena: 3.942619137615212\n",
      "Film: Batman Begins, ocena: 3.9375326640077017\n",
      "Film: A Beautiful Mind, ocena: 3.9140940935239508\n",
      "Film: Rain Man, ocena: 3.9107819079644943\n",
      "Film: Monsters, Inc., ocena: 3.8819375978658006\n",
      "Film: Finding Nemo, ocena: 3.8807711131654794\n"
     ]
    }
   ],
   "source": [
    "#Priporočila 15 filmov (in napoved njihove ocene) za uporabnika 78 z uporabo SlopeOne prediktorja\n",
    "md = MovieData('data/movies.dat')\n",
    "uim = UserItemData('data/user_ratedmovies.dat', min_ratings=1000)\n",
    "rp = SlopeOnePredictor()\n",
    "rec = Recommender(rp)\n",
    "rec.fit(uim)\n",
    "\n",
    "print(\"Predictions for 78: \")\n",
    "rec_items = rec.recommend(78, n=15, rec_seen=False)\n",
    "for idmovie, val in rec_items:\n",
    "    print(\"Film: {}, ocena: {}\".format(md.get_title(idmovie), val))"
   ]
  },
  {
   "attachments": {},
   "cell_type": "markdown",
   "metadata": {},
   "source": [
    "#### Metoda evaluate(self, test_data, n) (8)"
   ]
  },
  {
   "cell_type": "code",
   "execution_count": 24,
   "metadata": {},
   "outputs": [],
   "source": [
    "#Razredu Recommender dodamo metodo evaluate, ki vrne rmse, mae, precision, recall in f1\n",
    "class Recommender(Recommender):\n",
    "    def evaluate(self, test_data, n=10):\n",
    "        rmse = 0\n",
    "        mae = 0\n",
    "        precision = 0\n",
    "        recall = 0\n",
    "        count = 0\n",
    "        users = test_data.ratings.userID.unique()\n",
    "        \n",
    "        \n",
    "        for i in users:\n",
    "            #Za vsakega uporabnika naredimo n napovedi\n",
    "            rec_items = dict(self.recommend(i, n=n, rec_seen=False))\n",
    "            #Iz testnih podatkov izberemo podatke za uporabnik in preoblikujemo dataframe, da lahko za posamezen film pogledamo oceno\n",
    "            test_items = test_data.ratings[test_data.ratings['userID'] == i][['movieID', 'rating']].pivot_table(index='movieID', values='rating')\n",
    "            \n",
    "            #Za precision pogledamo, koliko napovedanih filmov si je uporabnik ogledal in delimo z številom priporočil\n",
    "            precision += len(set(rec_items.keys()).intersection(set(test_items.index))) / n\n",
    "            #Za recall pogledamo, koliko napovedanih filmov si je uporabnik ogledal in delimo z številom filmov, ki si jih je uporabnik \"na novo\" ogledal\n",
    "            recall += len(set(rec_items.keys()).intersection((set(test_items.index)))) / len(set(test_items.index) - set(self.predictor.data.ratings[self.predictor.data.ratings['userID'] == i]['movieID'].unique()))\n",
    "\n",
    "            #Za filme katere je uporabnik dobil napoved in jih pogledal/ocenil izračunamo napako ter jo prištejemo k vsoti napak\n",
    "            for id in set(rec_items.keys()).intersection(set(test_items.index)):\n",
    "                rmse += (test_items.loc[id][0] - rec_items[id]) ** 2\n",
    "                mae += abs(test_items.loc[id][0] - rec_items[id])\n",
    "                count += 1\n",
    "        \n",
    "\n",
    "        #Končni izračun metrik\n",
    "        rmse = (rmse / count) ** 0.5\n",
    "        mae = mae / count\n",
    "        precision /= len(users)\n",
    "        recall /= len(users)\n",
    "        f = 2*precision*recall/(precision+recall)\n",
    "\n",
    "        #Vrnitev rezultatov\n",
    "        return (rmse,mae, precision, recall, f)\n"
   ]
  },
  {
   "cell_type": "code",
   "execution_count": 34,
   "metadata": {},
   "outputs": [
    {
     "name": "stdout",
     "output_type": "stream",
     "text": [
      "0.8593687090470131 0.6321782795132675 0.04849690539345704 0.08567838257795103 0.061935941811173796\n"
     ]
    }
   ],
   "source": [
    "md = MovieData('data/movies.dat')\n",
    "uim = UserItemData('data/user_ratedmovies.dat', min_ratings=1000, end_date='1.1.2008')\n",
    "rp = SlopeOnePredictor()\n",
    "rec = Recommender(rp)\n",
    "rec.fit(uim)\n",
    "\n",
    "uim_test = UserItemData('data/user_ratedmovies.dat', min_ratings=200, start_date='2.1.2008')\n",
    "mse, mae, precision, recall, f = rec.evaluate(uim_test, 20)\n",
    "print(mse, mae, precision, recall, f)"
   ]
  },
  {
   "attachments": {},
   "cell_type": "markdown",
   "metadata": {},
   "source": [
    "Najboljša priporočila dobim z Average prediktorjem, ki ima najmanjše napake in skoraj najvišje točke pri precision, recall, f1 score-ih. \\\n",
    "Napake SlopeOne prediktorja so zelo blizu Average prediktorja, a uporabnik le redko oceni filme, ki jih predlaga SlopeOne prediktor. \\\n",
    "Zanimiv rezultat je tudi pri views prediktorju, tu sicer ne moremo gledati napak, saj ne napovedujemo ocene, ampak ima najvišji f1 score. Zanimivo bi bilo pogledati ali so bolj gledani filmi tudi bolj ocenjeni ali pa ljudje samo bolj verjetno pogledamo filme, ki so jih pogledali tudi drugi. \\\n",
    "Najslabši izmed prediktorjev pa je, kot bi lahko pričakovali naključni prediktor."
   ]
  }
 ],
 "metadata": {
  "kernelspec": {
   "display_name": "Python 3",
   "language": "python",
   "name": "python3"
  },
  "language_info": {
   "codemirror_mode": {
    "name": "ipython",
    "version": 3
   },
   "file_extension": ".py",
   "mimetype": "text/x-python",
   "name": "python",
   "nbconvert_exporter": "python",
   "pygments_lexer": "ipython3",
   "version": "3.11.0"
  },
  "orig_nbformat": 4,
  "vscode": {
   "interpreter": {
    "hash": "b58cbf2b9e3ebb6393778d979f1c9613528806a90067473863e1744e38f48796"
   }
  }
 },
 "nbformat": 4,
 "nbformat_minor": 2
}
